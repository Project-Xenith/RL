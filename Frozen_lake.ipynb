{
 "cells": [
  {
   "cell_type": "code",
   "execution_count": 3,
   "metadata": {},
   "outputs": [],
   "source": [
    "# Importing the necessary libraries.\n",
    "\n",
    "import numpy as np\n",
    "import time \n",
    "import pickle\n",
    "import gym"
   ]
  },
  {
   "cell_type": "code",
   "execution_count": 4,
   "metadata": {},
   "outputs": [],
   "source": [
    "# Hyper-Parameters\n",
    "\n",
    "total_episodes = 10000 # Total number of iterations.\n",
    "epsilon = 0.9 # For epsilon-gready policy\n",
    "max_steps = 100 # Maximum steps\n",
    "lr_rate = 0.81 # Learning Rate\n",
    "gamma = 0.96 # Discount Factor"
   ]
  },
  {
   "cell_type": "code",
   "execution_count": 8,
   "metadata": {},
   "outputs": [],
   "source": [
    "# creating environment\n",
    "\n",
    "env = gym.make(\"FrozenLake-v1\") # Using FrozenLake-v1. Since FrozenLake-v0 is deprocated."
   ]
  },
  {
   "cell_type": "code",
   "execution_count": 10,
   "metadata": {},
   "outputs": [
    {
     "name": "stdout",
     "output_type": "stream",
     "text": [
      "Number of observation states:-  16\n",
      "Number of action space :-  4\n"
     ]
    }
   ],
   "source": [
    "print(\"Number of observation states:- \", env.observation_space.n)\n",
    "print(\"Number of action space :- \", env.action_space.n)"
   ]
  },
  {
   "cell_type": "code",
   "execution_count": 11,
   "metadata": {},
   "outputs": [
    {
     "data": {
      "text/plain": [
       "array([[0., 0., 0., 0.],\n",
       "       [0., 0., 0., 0.],\n",
       "       [0., 0., 0., 0.],\n",
       "       [0., 0., 0., 0.],\n",
       "       [0., 0., 0., 0.],\n",
       "       [0., 0., 0., 0.],\n",
       "       [0., 0., 0., 0.],\n",
       "       [0., 0., 0., 0.],\n",
       "       [0., 0., 0., 0.],\n",
       "       [0., 0., 0., 0.],\n",
       "       [0., 0., 0., 0.],\n",
       "       [0., 0., 0., 0.],\n",
       "       [0., 0., 0., 0.],\n",
       "       [0., 0., 0., 0.],\n",
       "       [0., 0., 0., 0.],\n",
       "       [0., 0., 0., 0.]])"
      ]
     },
     "execution_count": 11,
     "metadata": {},
     "output_type": "execute_result"
    }
   ],
   "source": [
    "Q = np.zeros((env.observation_space.n, env.action_space.n))\n",
    "Q"
   ]
  },
  {
   "cell_type": "code",
   "execution_count": null,
   "metadata": {},
   "outputs": [],
   "source": [
    "def choose_action(state):\n",
    "    \"\"\" \n",
    "    The choose_action() function used a Epsilon-Gready policy for Exploration and Exploitation.\n",
    "    \n",
    "    Exploration is done when uniform random number from 0 to 1 is less than epsilon value.\n",
    "    Else, Maximum value of the state and action pair is taken which is Exploitation.\n",
    "\n",
    "    Args:\n",
    "        state (int): Gets the current state as parameter/\n",
    "\n",
    "    Returns:\n",
    "        int: Returns action to be taken in that state\n",
    "    \"\"\"\n",
    "    action=0\n",
    "    if np.random.uniform(0, 1) < epsilon: # Epsilon-Gready policy\n",
    "        action = env.action_space.sample() # Random action sample space\n",
    "    else:\n",
    "        action = np.argmax(Q[state, :]) # Maximum value is taken from (State, Action)\n",
    "    return action"
   ]
  }
 ],
 "metadata": {
  "kernelspec": {
   "display_name": "Python 3",
   "language": "python",
   "name": "python3"
  },
  "language_info": {
   "codemirror_mode": {
    "name": "ipython",
    "version": 3
   },
   "file_extension": ".py",
   "mimetype": "text/x-python",
   "name": "python",
   "nbconvert_exporter": "python",
   "pygments_lexer": "ipython3",
   "version": "3.11.2"
  },
  "orig_nbformat": 4
 },
 "nbformat": 4,
 "nbformat_minor": 2
}
